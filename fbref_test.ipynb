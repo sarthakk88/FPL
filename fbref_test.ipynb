{
 "cells": [
  {
   "cell_type": "code",
   "execution_count": 1,
   "metadata": {},
   "outputs": [],
   "source": [
    "import fpl\n",
    "import fbref\n",
    "from datetime import datetime\n",
    "import pandas as pd\n",
    "import requests\n",
    "import json\n",
    "import numpy as np\n",
    "from bs4 import BeautifulSoup\n",
    "from bs4 import Comment\n",
    "import time\n",
    "import csv\n",
    "\n",
    "pd.set_option('display.max_columns', None)\n",
    "pd.set_option('display.max_rows', None)"
   ]
  },
  {
   "cell_type": "code",
   "execution_count": 2,
   "metadata": {},
   "outputs": [],
   "source": [
    "url = 'https://fbref.com/en/comps/Big5/stats/players/Big-5-European-Leagues-Stats'"
   ]
  },
  {
   "cell_type": "code",
   "execution_count": 4,
   "metadata": {},
   "outputs": [
    {
     "ename": "Exception",
     "evalue": "Response was code 429",
     "output_type": "error",
     "traceback": [
      "\u001b[1;31m---------------------------------------------------------------------------\u001b[0m",
      "\u001b[1;31mException\u001b[0m                                 Traceback (most recent call last)",
      "Cell \u001b[1;32mIn[4], line 1\u001b[0m\n\u001b[1;32m----> 1\u001b[0m fbref\u001b[39m.\u001b[39;49mmain()\n",
      "File \u001b[1;32mc:\\Users\\hp\\Desktop\\Football\\Code\\fpl\\fbref.py:145\u001b[0m, in \u001b[0;36mmain\u001b[1;34m()\u001b[0m\n\u001b[0;32m    144\u001b[0m \u001b[39mdef\u001b[39;00m \u001b[39mmain\u001b[39m():\n\u001b[1;32m--> 145\u001b[0m     players, stats \u001b[39m=\u001b[39m get_epl_players()\n\u001b[0;32m    147\u001b[0m     \u001b[39mfor\u001b[39;00m \u001b[39mid\u001b[39m, player \u001b[39min\u001b[39;00m players\u001b[39m.\u001b[39mitems():\n\u001b[0;32m    148\u001b[0m         get_matches_data(player)\n",
      "File \u001b[1;32mc:\\Users\\hp\\Desktop\\Football\\Code\\fpl\\fbref.py:89\u001b[0m, in \u001b[0;36mget_epl_players\u001b[1;34m()\u001b[0m\n\u001b[0;32m     88\u001b[0m \u001b[39mdef\u001b[39;00m \u001b[39mget_epl_players\u001b[39m():\n\u001b[1;32m---> 89\u001b[0m     tables \u001b[39m=\u001b[39m get_data(\u001b[39m\"\u001b[39;49m\u001b[39mhttps://fbref.com/en/comps/9/stats/Premier-League-Stats\u001b[39;49m\u001b[39m\"\u001b[39;49m)\n\u001b[0;32m     90\u001b[0m     table \u001b[39m=\u001b[39m tables[\u001b[39m0\u001b[39m]\n\u001b[0;32m     91\u001b[0m     players \u001b[39m=\u001b[39m {}\n",
      "File \u001b[1;32mc:\\Users\\hp\\Desktop\\Football\\Code\\fpl\\fbref.py:26\u001b[0m, in \u001b[0;36mget_data\u001b[1;34m(url)\u001b[0m\n\u001b[0;32m     24\u001b[0m response \u001b[39m=\u001b[39m requests\u001b[39m.\u001b[39mget(url)\n\u001b[0;32m     25\u001b[0m \u001b[39mif\u001b[39;00m response\u001b[39m.\u001b[39mstatus_code \u001b[39m!=\u001b[39m \u001b[39m200\u001b[39m:\n\u001b[1;32m---> 26\u001b[0m     \u001b[39mraise\u001b[39;00m \u001b[39mException\u001b[39;00m(\u001b[39m\"\u001b[39m\u001b[39mResponse was code \u001b[39m\u001b[39m\"\u001b[39m \u001b[39m+\u001b[39m \u001b[39mstr\u001b[39m(response\u001b[39m.\u001b[39mstatus_code))\n\u001b[0;32m     27\u001b[0m html \u001b[39m=\u001b[39m response\u001b[39m.\u001b[39mtext\n\u001b[0;32m     28\u001b[0m parsed_html \u001b[39m=\u001b[39m  BeautifulSoup(html, \u001b[39m'\u001b[39m\u001b[39mhtml.parser\u001b[39m\u001b[39m'\u001b[39m)\n",
      "\u001b[1;31mException\u001b[0m: Response was code 429"
     ]
    }
   ],
   "source": [
    "fbref.main()"
   ]
  }
 ],
 "metadata": {
  "kernelspec": {
   "display_name": ".venv",
   "language": "python",
   "name": "python3"
  },
  "language_info": {
   "codemirror_mode": {
    "name": "ipython",
    "version": 3
   },
   "file_extension": ".py",
   "mimetype": "text/x-python",
   "name": "python",
   "nbconvert_exporter": "python",
   "pygments_lexer": "ipython3",
   "version": "3.11.1"
  },
  "orig_nbformat": 4
 },
 "nbformat": 4,
 "nbformat_minor": 2
}
